{
 "cells": [
  {
   "cell_type": "code",
   "execution_count": null,
   "id": "1c1192c5-c6e7-4534-a010-1d16fba4b8cf",
   "metadata": {},
   "outputs": [],
   "source": [
    "from math import cos, sin, sqrt, acos, asin, pi"
   ]
  },
  {
   "cell_type": "code",
   "execution_count": 2,
   "id": "1627a6b3-7838-4909-8324-f3f0385fe33c",
   "metadata": {},
   "outputs": [],
   "source": [
    "def project(f, angle):\n",
    "    fx = f * cos(angle)\n",
    "    fy = f * sin(angle)\n",
    "    return (fx, fy)\n",
    "def deg2rad(angle):\n",
    "    return angle / 180 * pi\n",
    "def rad2deg(angle):\n",
    "    return angle / pi * 180\n",
    "def findQuadrant(a1, a2):\n",
    "    isUpper = a2 >= 0\n",
    "    isRight = a1 < 90\n",
    "    if isUpper and isRight:\n",
    "        return 1\n",
    "    elif isUpper and (not isRight):\n",
    "        return 2\n",
    "    elif (not isUpper) and (not isRight):\n",
    "        return 3\n",
    "    elif (not isUpper) and isRight:\n",
    "        return 4\n",
    "def computeForceMag(fx, fy):\n",
    "    return sqrt(fx**2 + fy**2)\n",
    "def computeAlpha(f, ftot, comp):\n",
    "    if comp == \"x\":\n",
    "        return rad2deg(acos(f/ftot))\n",
    "    elif comp == \"y\":\n",
    "        return 90 - rad2deg(asin(f/ftot)) + 90\n",
    "def computeBeta(alpha):\n",
    "    return alpha - 90"
   ]
  },
  {
   "cell_type": "code",
   "execution_count": 3,
   "id": "101e5f58-362a-4e52-8c93-d4c65c553502",
   "metadata": {},
   "outputs": [
    {
     "name": "stdout",
     "output_type": "stream",
     "text": [
      "合力在x轴和y轴的投影分别是-9.88N, 87.46N 合力是88.02N\n",
      "alpha 和 beta 分别是 96.44 6.44， 在第2象限\n"
     ]
    }
   ],
   "source": [
    "def project(f, angle):\n",
    "    fx = f * cos(angle)\n",
    "    fy = f * sin(angle)\n",
    "    return (fx, fy)\n",
    "def deg2rad(angle):\n",
    "    return angle / 180 * pi\n",
    "def rad2deg(angle):\n",
    "    return angle / pi * 180\n",
    "def findQuadrant(a1, a2):\n",
    "    isUpper = a2 >= 0\n",
    "    isRight = a1 < 90\n",
    "    if isUpper and isRight:\n",
    "        return 1\n",
    "    elif isUpper and (not isRight):\n",
    "        return 2\n",
    "    elif (not isUpper) and (not isRight):\n",
    "        return 3\n",
    "    elif (not isUpper) and isRight:\n",
    "        return 4\n",
    "def computeForceMag(fx, fy):\n",
    "    return sqrt(fx**2 + fy**2)\n",
    "def computeAlpha(f, ftot, comp):\n",
    "    if comp == \"x\":\n",
    "        return rad2deg(acos(f/ftot))\n",
    "    elif comp == \"y\":\n",
    "        return 90 - rad2deg(asin(f/ftot)) + 90\n",
    "def computeBeta(alpha):\n",
    "    return alpha - 90\n",
    "forces = (f1, f2, f3) = (30, 100, 20)\n",
    "angles = (a1, a2, a3) = (30, 120, -45)\n",
    "(fRx, fRy) = (0, 0)\n",
    "for (f, a) in zip(forces, angles):\n",
    "    a = deg2rad(a)\n",
    "    (fx, fy) = project(f, a)\n",
    "    fRx = fRx + fx\n",
    "    fRy = fRy + fy\n",
    "\n",
    "fR = computeForceMag(fRx, fRy)\n",
    "\n",
    "print(\"合力在x轴和y轴的投影分别是%.2fN, %.2fN\" % (fRx, fRy), \"合力是%.2fN\" % fR)\n",
    "\n",
    "alpha = computeAlpha(fRx, fR, \"x\")\n",
    "alpha = computeAlpha(fRy, fR, \"y\")\n",
    "beta = alpha - 90\n",
    "quadrant = findQuadrant(alpha, beta)\n",
    "\n",
    "print(\"alpha 和 beta 分别是 %.2f %.2f， 在第%.0f象限\" % (alpha, beta, quadrant))"
   ]
  },
  {
   "cell_type": "code",
   "execution_count": null,
   "id": "0af90733-d660-4b53-bc13-58e9854db14b",
   "metadata": {},
   "outputs": [],
   "source": []
  }
 ],
 "metadata": {
  "kernelspec": {
   "display_name": "Python 3",
   "language": "python",
   "name": "python3"
  },
  "language_info": {
   "codemirror_mode": {
    "name": "ipython",
    "version": 3
   },
   "file_extension": ".py",
   "mimetype": "text/x-python",
   "name": "python",
   "nbconvert_exporter": "python",
   "pygments_lexer": "ipython3",
   "version": "3.8.8"
  }
 },
 "nbformat": 4,
 "nbformat_minor": 5
}
