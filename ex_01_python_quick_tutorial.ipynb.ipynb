{
 "cells": [
  {
   "cell_type": "code",
   "execution_count": 1,
   "id": "41280b82-9c41-4450-93d5-bac7cd61673c",
   "metadata": {},
   "outputs": [
    {
     "name": "stdout",
     "output_type": "stream",
     "text": [
      "Hello python!\n"
     ]
    }
   ],
   "source": [
    "print('Hello python!')"
   ]
  },
  {
   "cell_type": "code",
   "execution_count": 2,
   "id": "4724e87d-2b9b-402b-ad4e-65325d279e87",
   "metadata": {},
   "outputs": [
    {
     "name": "stdout",
     "output_type": "stream",
     "text": [
      "Hello world!\n",
      "__________________________________________________\n",
      "编程让设计更具创造力！\n",
      "Everybody should learn how to code a computer, because it teaches you how to think, and allows designers more creative!\n"
     ]
    }
   ],
   "source": [
    "print(\"Hello world!\")\n",
    "print(\"_\"*50)\n",
    "print(\"编程让设计更具创造力！\")\n",
    "print(\"Everybody should learn how to code a computer, because it teaches you how to think, and allows designers more creative!\")"
   ]
  },
  {
   "cell_type": "code",
   "execution_count": 4,
   "id": "ced54b88-a34e-46f0-8b01-445343b7c087",
   "metadata": {},
   "outputs": [
    {
     "name": "stdout",
     "output_type": "stream",
     "text": [
      "加： 6\n",
      "减： 2\n",
      "乘： 9\n",
      "除： 1.0\n",
      "整除： 1\n",
      "余数： 1\n",
      "幂： 27\n"
     ]
    }
   ],
   "source": [
    "print(\"加：\",3+3) \n",
    "print(\"减：\",3-1)\n",
    "print(\"乘：\",3*3)\n",
    "print(\"除：\",3/3)\n",
    "print(\"整除：\",3//2)\n",
    "print(\"余数：\",3%2)\n",
    "print(\"幂：\",3**3)"
   ]
  },
  {
   "cell_type": "code",
   "execution_count": 5,
   "id": "6abc6949-977b-4985-911f-a8a244303914",
   "metadata": {},
   "outputs": [
    {
     "name": "stdout",
     "output_type": "stream",
     "text": [
      "11\n"
     ]
    }
   ],
   "source": [
    "x=5\n",
    "func=2*x+1 \n",
    "print(func)"
   ]
  },
  {
   "cell_type": "code",
   "execution_count": 6,
   "id": "9e8239fa-8f90-47fb-aa8f-002da8d58dd6",
   "metadata": {},
   "outputs": [
    {
     "name": "stdout",
     "output_type": "stream",
     "text": [
      "monadic_equation= 11.0\n",
      "monadic_equation=11.00\n",
      "monadic_equation=11.00\n"
     ]
    }
   ],
   "source": [
    "x=5.0\n",
    "monadic_equation=2*x+1\n",
    "print('monadic_equation=',monadic_equation)\n",
    "print(\"monadic_equation=%.2f\"%monadic_equation)\n",
    "print('monadic_equation={:.2f}'.format(monadic_equation))"
   ]
  },
  {
   "cell_type": "code",
   "execution_count": 2,
   "id": "6c369d2e-9ae0-4b96-a066-68b78094023c",
   "metadata": {},
   "outputs": [
    {
     "name": "stdout",
     "output_type": "stream",
     "text": [
      "The longitude of the Xi'an coordinate is 108.94, and the latitude is 34.261013.\n"
     ]
    }
   ],
   "source": [
    "city_name=\"Xi'an\"\n",
    "coordinate_longitude=108.942292\n",
    "coordiante_latitude=34.261013\n",
    "print(\"The longitude of the Xi'an coordinate is {lon:.2f}, and the latitude is {lat}.\".format(lon=coordinate_longitude,lat=coordiante_latitude))"
   ]
  },
  {
   "cell_type": "code",
   "execution_count": 31,
   "id": "c7028fba-9c1e-4be3-b226-5519e19d831d",
   "metadata": {},
   "outputs": [
    {
     "name": "stdout",
     "output_type": "stream",
     "text": [
      "func_2=26\n"
     ]
    }
   ],
   "source": [
    "x,y,b=2,5,7 \n",
    "func_2=2*x+3*y+b\n",
    "print(\"func_2={}\".format(func_2))\n",
    "#函数=2x2+3x5+7=4+15+7=26"
   ]
  },
  {
   "cell_type": "code",
   "execution_count": 3,
   "id": "283e574e-5496-4842-af0f-d4a93c5faa66",
   "metadata": {},
   "outputs": [
    {
     "name": "stdout",
     "output_type": "stream",
     "text": [
      "[5, 8, 11, 14, 17]\n",
      "The list length=5\n",
      "Maximum value=17\n",
      "Minimum value=5\n"
     ]
    }
   ],
   "source": [
    "lst_n=list(range(5,20,3)) \n",
    "print(lst_n)\n",
    "print(\"The list length={}\".format(len(lst_n)))\n",
    "print(\"Maximum value={}\".format(max(lst_n)))\n",
    "print(\"Minimum value={}\".format(min(lst_n)))"
   ]
  },
  {
   "cell_type": "code",
   "execution_count": 18,
   "id": "d4dee333-bc0c-4817-ae75-a92794aa10e8",
   "metadata": {},
   "outputs": [
    {
     "name": "stdout",
     "output_type": "stream",
     "text": [
      "['o', 'p', 'q', 'r', 's', 't', 'u', 'v', 'w', 'x', 'y', 'z', '{', '|']\n",
      "__________________________________________________\n",
      "[3:6]->['r', 's', 't']\n",
      "[-3:-1]->['z', '{']\n",
      "[-3:]->['z', '{', '|']\n",
      "[:3]->['o', 'p', 'q']\n",
      "[:]->['o', 'p', 'q', 'r', 's', 't', 'u', 'v', 'w', 'x', 'y', 'z', '{', '|']\n",
      "[1:3]->['p', 'q']\n"
     ]
    }
   ],
   "source": [
    "lst_s=list(map(chr,range(111,125))) #map-映射 chr-字符\n",
    "print(lst_s)\n",
    "print(\"_\"*50)\n",
    "print(\"[3:6]->{}\".format(lst_s[3:6])) #.format\n",
    "print(\"[-3:-1]->{}\".format(lst_s[-3:-1]))\n",
    "print(\"[-3:]->{}\".format(lst_s[-3:]))\n",
    "print(\"[:3]->{}\".format(lst_s[:3]))\n",
    "print(\"[:]->{}\".format(lst_s[:]))\n",
    "print(\"[1:3]->{}\".format(lst_s[1:3]))#从1（p）开始往后数，步长（3-1=2），即p,q"
   ]
  },
  {
   "cell_type": "code",
   "execution_count": 89,
   "id": "ff3e203c-b344-4faa-bdbe-bf180df6e009",
   "metadata": {},
   "outputs": [
    {
     "name": "stdout",
     "output_type": "stream",
     "text": [
      "['o', 'p', 'q', 'r', 's', 99, 'u', 'v', 'w', 'x', 'y', 'z', '{', '|']\n",
      "__________________________________________________\n",
      "[0:10:3]->['o', 'r', 'u', 'x']\n",
      "[::3]->['o', 'r', 'u', 'x', '{']\n",
      "[9:3:-2]->['x', 'v', 99]\n",
      "[20:3:-2]->['|', 'z', 'x', 'v', 99]\n",
      "[7::-2]->['v', 99, 'r', 'p']\n",
      "[:3:-2]->['|', 'z', 'x', 'v', 99]\n"
     ]
    }
   ],
   "source": [
    "print(lst_s)\n",
    "print(\"_\"*50)\n",
    "print(\"[0:10:3]->{}\".format(lst_s[0:10:3]))\n",
    "print(\"[::3]->{}\".format(lst_s[::3]))\n",
    "print(\"[9:3:-2]->{}\".format(lst_s[9:3:-2]))\n",
    "print(\"[20:3:-2]->{}\".format(lst_s[20:3:-2]))\n",
    "print(\"[7::-2]->{}\".format(lst_s[7::-2]))\n",
    "print(\"[:3:-2]->{}\".format(lst_s[:3:-2]))"
   ]
  },
  {
   "cell_type": "code",
   "execution_count": 12,
   "id": "82e78153-9045-4cfc-a515-65a1de16879b",
   "metadata": {},
   "outputs": [
    {
     "name": "stdout",
     "output_type": "stream",
     "text": [
      "Help on class map in module builtins:\n",
      "\n",
      "class map(object)\n",
      " |  map(func, *iterables) --> map object\n",
      " |  \n",
      " |  Make an iterator that computes the function using arguments from\n",
      " |  each of the iterables.  Stops when the shortest iterable is exhausted.\n",
      " |  \n",
      " |  Methods defined here:\n",
      " |  \n",
      " |  __getattribute__(self, name, /)\n",
      " |      Return getattr(self, name).\n",
      " |  \n",
      " |  __iter__(self, /)\n",
      " |      Implement iter(self).\n",
      " |  \n",
      " |  __next__(self, /)\n",
      " |      Implement next(self).\n",
      " |  \n",
      " |  __reduce__(...)\n",
      " |      Return state information for pickling.\n",
      " |  \n",
      " |  ----------------------------------------------------------------------\n",
      " |  Static methods defined here:\n",
      " |  \n",
      " |  __new__(*args, **kwargs) from builtins.type\n",
      " |      Create and return a new object.  See help(type) for accurate signature.\n",
      "\n"
     ]
    }
   ],
   "source": [
    "help(map)"
   ]
  },
  {
   "cell_type": "code",
   "execution_count": 19,
   "id": "7a656382-6ed0-4111-be1c-7bfdde3b87b6",
   "metadata": {},
   "outputs": [
    {
     "name": "stdout",
     "output_type": "stream",
     "text": [
      "['o', 'p', 'q', 'r', 's', 't', 'u', 'v', 'w', 'x', 'y', 'z', '{', '|']\n",
      "__________________________________________________\n",
      "lst_s[5]=99->['o', 'p', 'q', 'r', 's', 99, 'u', 'v', 'w', 'x', 'y', 'z', '{', '|']\n",
      "lst_s+[None]*6->['o', 'p', 'q', 'r', 's', 99, 'u', 'v', 'w', 'x', 'y', 'z', '{', '|', None, None, None, None, None, None]\n",
      "lst_none[13]=2015->['o', 'p', 'q', 'r', 's', 99, 'u', 'v', 'w', 'x', 'y', 'z', '{', 2015, None, None, None, None, None, None]\n",
      "lst_none[-6:-3]=list(range(100,104,2))->['o', 'p', 'q', 'r', 's', 99, 'u', 'v', 'w', 'x', 'y', 'z', '{', 2015, 100, 102, None, None, None]\n",
      "lst_none[1:1]=[0,0,0,12]->['o', 0, 0, 0, 12, 'p', 'q', 'r', 's', 99, 'u', 'v', 'w', 'x', 'y', 'z', '{', 2015, 100, 102, None, None, None]\n",
      "del lst_none[-2:]->['o', 0, 0, 0, 12, 'p', 'q', 'r', 's', 99, 'u', 'v', 'w', 'x', 'y', 'z', '{', 2015, 100, 102, None]\n"
     ]
    }
   ],
   "source": [
    "print(lst_s)\n",
    "print(\"_\"*50)\n",
    "\n",
    "lst_s[5]=99  #元素赋值\n",
    "print(\"lst_s[5]=99->{}\".format(lst_s))\n",
    "lst_none=lst_s+[None]*6\n",
    "print(\"lst_s+[None]*6->{}\".format(lst_none))\n",
    "lst_none[13]=2015\n",
    "print(\"lst_none[13]=2015->{}\".format(lst_none))\n",
    "\n",
    "lst_none[-6:-3]=list(range(100,104,2))  #分片赋值\n",
    "print(\"lst_none[-6:-3]=list(range(100,104,2))->{}\".format(lst_none))\n",
    "lst_none[1:1]=[0,0,0,12]\n",
    "print(\"lst_none[1:1]=[0,0,0,12]->{}\".format(lst_none))\n",
    "\n",
    "del lst_none[-2:]  #删除元素\n",
    "print(\"del lst_none[-2:]->{}\".format(lst_none))"
   ]
  },
  {
   "cell_type": "code",
   "execution_count": 22,
   "id": "bc7f68be-6d15-45ed-956e-ab158870fbc0",
   "metadata": {},
   "outputs": [
    {
     "name": "stdout",
     "output_type": "stream",
     "text": [
      "['d', 'e', 'f', 'g', 'h']\n",
      "__________________________________________________\n",
      "lst_s_2.append(99)->['d', 'e', 'f', 'g', 'h', 99]\n",
      "lst_s_2.append(list(range(50,80,5)))->['d', 'e', 'f', 'g', 'h', 99, [50, 55, 60, 65, 70, 75]]\n",
      "lst_s_2.extend(lst_spechars)->['d', 'e', 'f', 'g', 'h', 99, [50, 55, 60, 65, 70, 75], '*', ')', '*']\n",
      "lst_s_2.count('*')=2\n",
      "lst_s_2.index('e')=1\n",
      "lst_s_2.insert(2,[1000,1200,1500])->['d', 'e', [1000, 1200, 1500], 'f', 'g', 'h', 99, [50, 55, 60, 65, 70, 75], '*', ')', '*']\n",
      "lst_s_2.pop(7)_popup->[50, 55, 60, 65, 70, 75]\n",
      "lst_s_2.pop(7)_retention->['d', 'e', [1000, 1200, 1500], 'f', 'g', 'h', 99, '*', ')', '*']\n",
      "lst_s_2.remove('*')_retention->['d', 'e', [1000, 1200, 1500], 'f', 'g', 'h', 99, ')', '*']\n",
      "list_n_2.sort()->[2, 3, 4, 6, 42, 95]\n"
     ]
    }
   ],
   "source": [
    "lst_s_2=list(map(chr,range(100,105)))\n",
    "print(lst_s_2)\n",
    "print(\"_\"*50)\n",
    "lst_s_2.append(99)\n",
    "print(\"lst_s_2.append(99)->{}\".format(lst_s_2))\n",
    "lst_s_2.append(list(range(50,80,5)))\n",
    "print(\"lst_s_2.append(list(range(50,80,5)))->{}\".format(lst_s_2))\n",
    "lst_spechars=['*',')','*']\n",
    "lst_s_2.extend(lst_spechars)\n",
    "print(\"lst_s_2.extend(lst_spechars)->{}\".format(lst_s_2))\n",
    "print(\"lst_s_2.count('*')={}\".format(lst_s_2.count('*')))\n",
    "print(\"lst_s_2.index('e')={}\".format(lst_s_2.index('e')))\n",
    "lst_s_2.insert(2,[1000,1200,1500])\n",
    "print(\"lst_s_2.insert(2,[1000,1200,1500])->{}\".format(lst_s_2))\n",
    "print(\"lst_s_2.pop(7)_popup->{}\".format(lst_s_2.pop(7)))\n",
    "print(\"lst_s_2.pop(7)_retention->{}\".format(lst_s_2))\n",
    "lst_s_2.remove('*')\n",
    "print(\"lst_s_2.remove('*')_retention->{}\".format(lst_s_2))\n",
    "list_n_2=[2,42,6,95,4,3]\n",
    "list_n_2.sort()\n",
    "print(\"list_n_2.sort()->{}\".format(list_n_2))"
   ]
  },
  {
   "cell_type": "code",
   "execution_count": 25,
   "id": "7e77ddc1-46ee-4f19-a8bc-723003733ded",
   "metadata": {},
   "outputs": [
    {
     "name": "stdout",
     "output_type": "stream",
     "text": [
      "tuple_1=2,3,5,->(2, 3, 5)\n",
      "3*(20*5,)->(100, 100, 100)\n",
      "tuple((5,8,9))->(5, 8, 9)\n",
      "tuple([5,8,9])->(5, 8, 9)\n"
     ]
    }
   ],
   "source": [
    "tuple_1=2,3,5,\n",
    "print(\"tuple_1=2,3,5,->{}\".format(tuple_1))\n",
    "print(\"3*(20*5,)->{}\".format(3*(20*5,)))\n",
    "print(\"tuple((5,8,9))->{}\".format(tuple((5,8,9)))) \n",
    "print(\"tuple([5,8,9])->{}\".format(tuple([5,8,9]))) "
   ]
  },
  {
   "cell_type": "code",
   "execution_count": 27,
   "id": "57f441e6-2ae1-4aed-a274-0ce00f975fc5",
   "metadata": {},
   "outputs": [
    {
     "name": "stdout",
     "output_type": "stream",
     "text": [
      "items->[(0, [0, 1, 2, 3, 4]), (1, [[102, 142, 160]]), (2, 'python')]\n",
      "dic=dict(items)->{0: [0, 1, 2, 3, 4], 1: [[102, 142, 160]], 2: 'python'}\n",
      "dic[1]->[[102, 142, 160]]\n"
     ]
    }
   ],
   "source": [
    "import random\n",
    "items=[(0,[i for i in range(5)]),(1,[random.sample(list(range(100,200,2)),3)]),(2,'python')] #[i for i in range(5)] 为列表推导式 list comprehension/derivation\n",
    "print(\"items->{}\".format(items))\n",
    "dic=dict(items)\n",
    "print(\"dic=dict(items)->{}\".format(dic))\n",
    "print(\"dic[1]->{}\".format(dic[1]))"
   ]
  },
  {
   "cell_type": "code",
   "execution_count": 36,
   "id": "a93fd44b-f77a-4d30-bee7-9f570f3a5dfb",
   "metadata": {},
   "outputs": [
    {
     "name": "stdout",
     "output_type": "stream",
     "text": [
      "len(dic)->2\n",
      "dic[3]=(random.random(),random.uniform(200,300))->{0: [0, 1, 2, 3, 4], 2: 'python', 3: (0.6458891815530265, 229.5243070953479)}\n",
      "del dic[1]->{0: [0, 1, 2, 3, 4], 2: 'python'}\n",
      "3 in dic->False\n",
      "5 in dic->False\n",
      "dic.keys()->dict_keys([0, 2])\n",
      "dic.values()->dict_values([[0, 1, 2, 3, 4], 'python'])\n",
      "dic.items()->dict_items([(0, [0, 1, 2, 3, 4]), (2, 'python')])\n",
      "__________________________________________________\n",
      "list(dic.keys())->[0, 2]\n"
     ]
    }
   ],
   "source": [
    "print(\"len(dic)->{}\".format(len(dic)))\n",
    "dic[3]=(random.random(),random.uniform(200,300))\n",
    "print(\"dic[3]=(random.random(),random.uniform(200,300))->{}\".format(dic))\n",
    "del dic[3]\n",
    "print(\"del dic[1]->{}\".format(dic))\n",
    "print(\"3 in dic->{}\".format(3 in dic))\n",
    "print(\"5 in dic->{}\".format(5 in dic))\n",
    "print(\"dic.keys()->{}\".format(dic.keys())) \n",
    "print(\"dic.values()->{}\".format(dic.values()))\n",
    "print(\"dic.items()->{}\".format(dic.items()))\n",
    "print(\"_\"*50)\n",
    "print(\"list(dic.keys())->{}\".format(list(dic.keys())))"
   ]
  },
  {
   "cell_type": "code",
   "execution_count": 37,
   "id": "e2bf6224-7dd2-45b2-8266-21648fb78d37",
   "metadata": {},
   "outputs": [
    {
     "name": "stdout",
     "output_type": "stream",
     "text": [
      "0 (0, [0, 1, 2, 3, 4])\n",
      "1 (2, 'python')\n"
     ]
    }
   ],
   "source": [
    "for k,v in enumerate(dic.items()):\n",
    "    print(k,v)"
   ]
  },
  {
   "cell_type": "code",
   "execution_count": 52,
   "id": "7193e3c9-42b1-4e6c-877f-4cfb983fea02",
   "metadata": {},
   "outputs": [
    {
     "name": "stdout",
     "output_type": "stream",
     "text": [
      "lst_A=[6, 12, 18],lst_B=[85, 95, 105]\n",
      "dic_2={0: [6, 12, 18], 1: [85, 95, 105]}\n",
      "__________________________________________________\n",
      "dic_assignment={0: [6, 12, 18], 1: [85, 95, 105]}\n",
      "dic_2.clear()->{}\n",
      "dic_assignment={}\n",
      "dic_2[5]=list(range(1,12,2))->{5: [1, 3, 5, 7, 9, 11]}\n",
      "dic_copy=dic_2.copy()->{5: [1, 3, 5, 7, 9, 11]}\n",
      "dic_2[8]=[5,7]->{5: [1, 3, 5, 7, 9, 11], 8: [5, 7]}\n",
      "dic_copy={5: [1, 3, 5, 7, 9, 11]}\n",
      "dic_copy[5].remove(5)->{5: [1, 3, 7, 9, 11]}\n",
      "dic_copy.setdefault(6,[77,99])->{5: [1, 3, 7, 9, 11], 6: [77, 99]}\n",
      "dic_2.pop(5)->{8: [5, 7]}\n",
      "dic_update={8: [5, 7, 6, 3, 2], 9: [3, 2, 33, 55, 66]}\n",
      "dic_2.update(dic_update->{8: [5, 7, 6, 3, 2], 9: [3, 2, 33, 55, 66]}\n",
      "dic_2.get(9)->[3, 2, 33, 55, 66]\n",
      "dic_2.popitem()->{8: [5, 7, 6, 3, 2]}\n",
      "dic_3={}.fromkeys([0,1,2,3,4,'A'])->{0: None, 1: None, 2: None, 3: None, 4: None, 'A': None}\n"
     ]
    }
   ],
   "source": [
    "lst_A=list(range(6,20,6))\n",
    "lst_B=list(range(85,110,10))\n",
    "print(\"lst_A={},lst_B={}\".format(lst_A,lst_B))\n",
    "dic_2={0:lst_A,1:lst_B}\n",
    "print(\"dic_2={}\".format(dic_2))\n",
    "print(\"_\"*50)\n",
    "dic_assignment=dic_2\n",
    "print(\"dic_assignment={}\".format(dic_assignment))\n",
    "dic_2.clear()\n",
    "print(\"dic_2.clear()->{}\".format(dic_2))\n",
    "print(\"dic_assignment={}\".format(dic_assignment))\n",
    "dic_2[5]=list(range(1,12,2))\n",
    "print(\"dic_2[5]=list(range(1,12,2))->{}\".format(dic_2))\n",
    "dic_copy=dic_2.copy()\n",
    "print(\"dic_copy=dic_2.copy()->{}\".format(dic_copy))\n",
    "dic_2[8]=[5,7]\n",
    "print(\"dic_2[8]=[5,7]->{}\".format(dic_2))\n",
    "print(\"dic_copy={}\".format(dic_copy))\n",
    "dic_copy[5].remove(5)\n",
    "print(\"dic_copy[5].remove(5)->{}\".format(dic_copy))\n",
    "dic_copy.setdefault(6,[77,99]) \n",
    "print(\"dic_copy.setdefault(6,[77,99])->{}\".format(dic_copy))\n",
    "dic_2.pop(5)\n",
    "print(\"dic_2.pop(5)->{}\".format(dic_2))\n",
    "dic_update={8:[5,7,6,3,2],9:[3,2,33,55,66]}\n",
    "print(\"dic_update={}\".format(dic_update))\n",
    "dic_2.update(dic_update) \n",
    "print(\"dic_2.update(dic_update->{}\".format(dic_2))\n",
    "print(\"dic_2.get(9)->{}\".format(dic_2.get(9)))\n",
    "dic_2.popitem() \n",
    "print(\"dic_2.popitem()->{}\".format(dic_2))\n",
    "\n",
    "dic_3={}.fromkeys([0,1,2,3,4,'A'])\n",
    "print(\"dic_3={}\"+\".fromkeys([0,1,2,3,4,'A'])->{}\".format(dic_3))"
   ]
  },
  {
   "cell_type": "code",
   "execution_count": 54,
   "id": "93979acb-9690-4f67-aba7-aa2c478e5eeb",
   "metadata": {},
   "outputs": [
    {
     "name": "stdout",
     "output_type": "stream",
     "text": [
      "lst_s_3=list(\"Hello Python!\")->['H', 'e', 'l', 'l', 'o', ' ', 'P', 'y', 't', 'h', 'o', 'n', '!']\n",
      "\"Hellow\"+\" Python!\"->Hellow Python!\n",
      "\"-\".join(str(123456))->1-2-3-4-5-6\n"
     ]
    }
   ],
   "source": [
    "lst_s_3=list(\"Hello Python!\")\n",
    "print(\"lst_s_3=list(\\\"Hello Python!\\\")->{}\".format(lst_s_3)) #\"\\\" escape character\n",
    "print(\"\\\"Hellow\\\"+\\\" Python!\\\"->{}\".format(\"Hellow\"+\" Python!\"))\n",
    "print(\"\\\"-\\\".join(str(123456))->{}\".format(\"-\".join(str(123456))))"
   ]
  },
  {
   "cell_type": "code",
   "execution_count": 56,
   "id": "247bae11-3bc0-457c-ab5f-d32fe2a7ecd0",
   "metadata": {},
   "outputs": [
    {
     "name": "stdout",
     "output_type": "stream",
     "text": [
      "coordinates.split(\",\")->['120.132007', '30.300508', '9.7']\n",
      "eval(coordinates)->(120.132007, 30.300508, 9.7)\n",
      "\"Hello Python!\".lower()->hello python!\n",
      "\"Hello Python!\".upper()->HELLO PYTHON!\n",
      "\"Hello Python!\"[6:]->Python!\n",
      "\"    Hello Python!    \".strip()->Hello Python!\n",
      "\"Hello Python!\".replace(\"Python\",\"Tracer\")->Hello Tracer!\n"
     ]
    }
   ],
   "source": [
    "coordinates=\"120.132007,30.300508,9.7\"\n",
    "print(\"coordinates.split(\\\",\\\")->{}\".format(coordinates.split(\",\")))\n",
    "print(\"eval(coordinates)->{}\".format(eval(coordinates))) #eval()-将字符串转换为对应数值形式\n",
    "print(\"\\\"Hello Python!\\\".lower()->{}\".format(\"Hello Python!\".lower()))\n",
    "print(\"\\\"Hello Python!\\\".upper()->{}\".format(\"Hello Python!\".upper()))\n",
    "print(\"\\\"Hello Python!\\\"[6:]->{}\".format(\"Hello Python!\"[6:]))\n",
    "print(\"\\\"    Hello Python!    \\\".strip()->{}\".format(\"    Hello Python!    \".strip()))\n",
    "print(\"\\\"Hello Python!\\\".replace(\\\"Python\\\",\\\"Tracer\\\")->{}\".format(\"Hello Python!\".replace(\"Python\",\"Tracer\")))"
   ]
  },
  {
   "cell_type": "code",
   "execution_count": 59,
   "id": "5c8e952b-a53a-4345-9b55-2d31d03e913c",
   "metadata": {},
   "outputs": [
    {
     "name": "stdout",
     "output_type": "stream",
     "text": [
      "hello_lst.sort()>[' ', '!', 'H', 'T', 'a', 'c', 'e', 'e', 'l', 'l', 'o', 'r', 'r']\n",
      "\"Hello TRacer!\".find(\"a\")->8\n"
     ]
    }
   ],
   "source": [
    "hello_lst=list(\"Hello Tracer!\")\n",
    "hello_lst.sort()\n",
    "print(\"hello_lst.sort()>{}\".format(hello_lst))\n",
    "print(\"\\\"Hello TRacer!\\\".find(\\\"a\\\")->{}\".format(\"Hello TRacer!\".find(\"a\")))"
   ]
  },
  {
   "cell_type": "code",
   "execution_count": 62,
   "id": "c0b89476-6f88-4184-86cc-25fa01ae9688",
   "metadata": {},
   "outputs": [
    {
     "name": "stdout",
     "output_type": "stream",
     "text": [
      "new_str=format_str % values->Hello,85 and Sean!\n"
     ]
    }
   ],
   "source": [
    "format_str=\"Hello,%s and %s!\"\n",
    "values=(\"85\",\"Sean\")\n",
    "new_str=format_str % values\n",
    "print(\"new_str=format_str % values->{}\".format(new_str))\n",
    "\n"
   ]
  },
  {
   "cell_type": "code",
   "execution_count": 63,
   "id": "b56f161b-d83f-4038-ab20-b01d0c823b53",
   "metadata": {},
   "outputs": [
    {
     "name": "stdout",
     "output_type": "stream",
     "text": [
      "new_str_2=format_str_2 % (pi,3.1415926)->Pi with three decimals:3.142,and enter a value with percent sign:3.14 %\n"
     ]
    }
   ],
   "source": [
    "format_str_2=\"Pi with three decimals:%.3f,and enter a value with percent sign:%.2f %%\"\n",
    "from math import pi\n",
    "new_str_2=format_str_2 % (pi,3.1415926)\n",
    "print(\"new_str_2=format_str_2 % (pi,3.1415926)->{}\".format(new_str_2))"
   ]
  },
  {
   "cell_type": "code",
   "execution_count": 79,
   "id": "6eed8a9f-5140-4d70-a61e-f525f2cab8d7",
   "metadata": {},
   "outputs": [
    {
     "name": "stdout",
     "output_type": "stream",
     "text": [
      "  3.141593,    3.1416, 3.14,     Hello,  Hello,   5.200000e+01,   34,   3.141593\n"
     ]
    }
   ],
   "source": [
    "format_str_3=\"%10f,%10.4f,%5.2f,%10.5s,  %5.*s,   %e,   %x,   %f\"\n",
    "new_str_3=format_str_3%(pi,pi,pi,\"Hello Python!\",5,\"Hello Python!\",52,52,pi)\n",
    "print(\"{}\".format(new_str_3))"
   ]
  },
  {
   "cell_type": "code",
   "execution_count": 86,
   "id": "8150a4e8-40f4-47b7-a3c6-79f501a5c29e",
   "metadata": {},
   "outputs": [
    {
     "name": "stdout",
     "output_type": "stream",
     "text": [
      "s_1=s_template_1.substitute(x=\"85\",y=\"sean\")->85,glorious,sean!\n"
     ]
    }
   ],
   "source": [
    "from string import Template\n",
    "s_template_1=Template(\"$x,glorious,$y!\")\n",
    "s_1=s_template_1.substitute(x=\"85\",y=\"sean\")\n",
    "print(\"s_1=s_template_1.substitute(x=\\\"85\\\",y=\\\"sean\\\")->{}\".format(s_1))\n"
   ]
  },
  {
   "cell_type": "code",
   "execution_count": 87,
   "id": "6b7460b9-641b-4824-800c-073024097395",
   "metadata": {},
   "outputs": [
    {
     "name": "stdout",
     "output_type": "stream",
     "text": [
      "s_2=s_template_2.substitute(x=\"DAytoy\")->DAytoy will never fall\n"
     ]
    }
   ],
   "source": [
    "s_template_2=Template(\"${x} will never fall\")\n",
    "s_2=s_template_2.substitute(x=\"DAytoy\")\n",
    "print(\"s_2=s_template_2.substitute(x=\\\"DAytoy\\\")->{}\".format(s_2))\n"
   ]
  },
  {
   "cell_type": "code",
   "execution_count": 88,
   "id": "1652c88c-a81b-41eb-837f-c455890f74e2",
   "metadata": {},
   "outputs": [
    {
     "name": "stdout",
     "output_type": "stream",
     "text": [
      "substitute_dict={'x': '85', 'y': 'sean'}\n",
      "s_3=s_template_3.substitute(substitute_dict)->85 and sean are both amazing!\n"
     ]
    }
   ],
   "source": [
    "s_template_3=Template(\"$x and $y are both amazing!\")\n",
    "substitute_dict=dict([('x','85'),('y','sean')])\n",
    "print(\"substitute_dict={}\".format(substitute_dict))\n",
    "s_3=s_template_3.substitute(substitute_dict)\n",
    "print(\"s_3=s_template_3.substitute(substitute_dict)->{}\".format(s_3))"
   ]
  },
  {
   "cell_type": "code",
   "execution_count": 90,
   "id": "74acf692-fdb1-4b34-b8d2-b8bd8922d936",
   "metadata": {},
   "outputs": [
    {
     "name": "stdout",
     "output_type": "stream",
     "text": [
      "re.findall(pattern_1,text)->['Python']\n",
      "re.findall(pattern_2,text)->[]\n"
     ]
    }
   ],
   "source": [
    "import re\n",
    "pattern_1='Python'\n",
    "text=\"Hello Python!\"\n",
    "print(\"re.findall(pattern_1,text)->{}\".format(re.findall(pattern_1,text)))\n",
    "pattern_2='python'\n",
    "print(\"re.findall(pattern_2,text)->{}\".format(re.findall(pattern_2,text)))"
   ]
  },
  {
   "cell_type": "code",
   "execution_count": 97,
   "id": "907e6348-74a3-439f-853b-571d708ffa6e",
   "metadata": {},
   "outputs": [
    {
     "name": "stdout",
     "output_type": "stream",
     "text": [
      "re.findall('.python','Hello Python!')->['Python']\n",
      "re.findall('.pthon','Hello rgython!')->['gython']\n",
      "re.findall('.ython','Hello gPython!')->['Python']\n",
      "re.findall('.ython','Hello Pthon!')->[]\n"
     ]
    }
   ],
   "source": [
    "#？？？？？？？？？？？？？？\n",
    "print(\"re.findall('.python','Hello Python!')->{}\".format(re.findall('.ython','Hello Python!')))\n",
    "print(\"re.findall('.pthon','Hello rgython!')->{}\".format(re.findall('.ython','Hello gython!')))\n",
    "print(\"re.findall('.ython','Hello gPython!')->{}\".format(re.findall('.ython','Hello gPython!')))\n",
    "print(\"re.findall('.ython','Hello Pthon!')->{}\".format(re.findall('.ython','Hello Pthon!')))"
   ]
  },
  {
   "cell_type": "code",
   "execution_count": 98,
   "id": "31ae7cde-77fd-4c33-91fc-d643d9990ffe",
   "metadata": {},
   "outputs": [
    {
     "name": "stdout",
     "output_type": "stream",
     "text": [
      "re.findall(r'w?cadesign\\.cn,w+\\.cadesign\\.cn','cadesign.cn,www.cadesign.cn')->['cadesign.cn,www.cadesign.cn']\n",
      "re.findall(r'w{2}\\.cadesign\\.cn','www.cadesign.cn')->['ww.cadesign.cn']\n",
      "re.findall(r'w{1,3}\\.cadesign\\.cn','www.cadesign.cn')->['www.cadesign.cn']\n"
     ]
    }
   ],
   "source": [
    "print(\"re.findall(r'w?cadesign\\.cn,w+\\.cadesign\\.cn','cadesign.cn,www.cadesign.cn')->{}\".format(re.findall(r'w?cadesign\\.cn,w+\\.cadesign\\.cn','cadesign.cn,www.cadesign.cn')))\n",
    "print(\"re.findall(r'w{2}\"+\"\\.cadesign\\.cn','www.cadesign.cn')->{}\".format(re.findall(r'w{2}\\.cadesign\\.cn','www.cadesign.cn')))\n",
    "print(\"re.findall(r'w{1,3}\"+\"\\.cadesign\\.cn','www.cadesign.cn')->{}\".format(re.findall(r'w{1,3}\\.cadesign\\.cn','www.cadesign.cn')))"
   ]
  },
  {
   "cell_type": "code",
   "execution_count": 103,
   "id": "98b1897e-309f-4ac5-a6c8-214f89dcc12c",
   "metadata": {},
   "outputs": [
    {
     "name": "stdout",
     "output_type": "stream",
     "text": [
      "re.findall('[Py]^thon!','Hello Python!')->['Python!']\n",
      "re.findall('[Py]^thon!','Hello Pthon!')->['Pthon!']\n",
      "re.findall('[Py]^thon!','Hello ython!')->['ython!']\n",
      "re.findall('[Py]$thon!','Hello ython!')->['thon!']\n"
     ]
    }
   ],
   "source": [
    "\n",
    "print(\"re.findall('[Py]^thon!','Hello Python!')->{}\".format(re.findall('[Py]*thon!','Hello Python!')))\n",
    "print(\"re.findall('[Py]^thon!','Hello Pthon!')->{}\".format(re.findall('[Py]*thon!','Hello Pthon!')))\n",
    "print(\"re.findall('[Py]^thon!','Hello ython!')->{}\".format(re.findall('[Py]*thon!','Hello ython!')))\n",
    "print(\"re.findall('[Py]$thon!','Hello ython!')->{}\".format(re.findall('[Py]*thon!','Hello thon!')))"
   ]
  },
  {
   "cell_type": "code",
   "execution_count": 106,
   "id": "4530c571-0d5c-47cf-8b26-fda41768eef0",
   "metadata": {},
   "outputs": [
    {
     "name": "stdout",
     "output_type": "stream",
     "text": [
      "re.findall('python|grasshopper','python')->['python']\n",
      "re.findall('python|grasshopper','grasshopper')->['grasshopper']\n",
      "re.findall('python|grasshopper','grasshopper and python')->['grasshopper', 'python']\n",
      "re.findall('85|sean|Daytoy','85 and sean')->['85', 'sean']\n"
     ]
    }
   ],
   "source": [
    "# |-选择？？\n",
    "print(\"re.findall('python|grasshopper','python')->{}\".format(re.findall('python|grasshopper','python')))\n",
    "print(\"re.findall('python|grasshopper','grasshopper')->{}\".format(re.findall('python|grasshopper','grasshopper')))\n",
    "print(\"re.findall('python|grasshopper','grasshopper and python')->{}\".format(re.findall('python|grasshopper','grasshopper and python')))\n",
    "print(\"re.findall('85|sean|Daytoy','85 and sean')->{}\".format(re.findall('85|sean|Daytoy','85 and sean')))"
   ]
  },
  {
   "cell_type": "code",
   "execution_count": 111,
   "id": "865d6c89-9068-413a-9252-f99ce03d4366",
   "metadata": {},
   "outputs": [
    {
     "name": "stdout",
     "output_type": "stream",
     "text": [
      "re.findall('\\d','sean=85')->['8', '5']\n",
      "re.findall('\\D','sean=85')->['s', 'e', 'a', 'n', '=']\n",
      "re.findall('[^0-5]','sean=85')->['s', 'e', 'a', 'n', '=', '8']\n"
     ]
    }
   ],
   "source": [
    "#\\d \\D\n",
    "#[^...]-匹配集合中未包含的字符\n",
    "print(\"re.findall('\\d','sean=85')->{}\".format(re.findall('\\d','sean=85')))\n",
    "print(\"re.findall('\\D','sean=85')->{}\".format(re.findall('\\D','sean=85')))\n",
    "print(\"re.findall('[^0-5]','sean=85')->{}\".format(re.findall('[^0-5]','sean=85')))"
   ]
  },
  {
   "cell_type": "code",
   "execution_count": 122,
   "id": "70f3d491-b2cd-413f-b6d4-18e8787b98ad",
   "metadata": {},
   "outputs": [
    {
     "name": "stdout",
     "output_type": "stream",
     "text": [
      "re.findall('[a-z]','sean')->['s', 'e', 'a', 'n']\n",
      "re.search('[a-z]+','seanyibo')-><re.Match object; span=(0, 8), match='seanyibo'>\n",
      "re.search('[a-z]+','sean85')-><re.Match object; span=(0, 4), match='sean'>\n",
      "re.search('[a-z]+','seanyibo')->bjyxszd!\n"
     ]
    }
   ],
   "source": [
    "print(\"re.findall('[a-z]','sean')->{}\".format(re.findall('[a-z]','sean')))\n",
    "print(\"re.search('[a-z]+','seanyibo')->{}\".format(re.search('[a-z]+','seanyibo')))\n",
    "print(\"re.search('[a-z]+','sean85')->{}\".format(re.search('[a-z]+','sean85')))\n",
    "if re.search('[a-z]+','seanyibo'):\n",
    "    print(\"re.search('[a-z]+','seanyibo')->bjyxszd!\")"
   ]
  },
  {
   "cell_type": "code",
   "execution_count": 123,
   "id": "4171fefe-bd4c-4671-bc61-010e7d0aa9d4",
   "metadata": {},
   "outputs": [
    {
     "name": "stdout",
     "output_type": "stream",
     "text": [
      "re.split(',','Hello,,,,,,Python!')->['Hello', '', '', '', '', '', 'Python!']\n",
      "re.sub('Python','Grasshopper','Hello Python!')->Hello Grasshopper!\n"
     ]
    }
   ],
   "source": [
    "#split-?\n",
    "#sbu-?\n",
    "print(\"re.split(',','Hello,,,,,,Python!')->{}\".format(re.split(',','Hello,,,,,,Python!')))\n",
    "print(\"re.sub('Python','Grasshopper','Hello Python!')->{}\".format(re.sub('Python','Grasshopper','Hello Python!')))"
   ]
  },
  {
   "cell_type": "code",
   "execution_count": 124,
   "id": "31e59bc9-0245-441b-b7be-a899106ac538",
   "metadata": {},
   "outputs": [
    {
     "name": "stdout",
     "output_type": "stream",
     "text": [
      "pattern_compile.findall('Hello,,,,,,Python!')->['Python']\n",
      "re.match('p','python')->found it!\n"
     ]
    }
   ],
   "source": [
    "pattern_compile=re.compile('Python')\n",
    "print(\"pattern_compile.findall('Hello,,,,,,Python!')->{}\".format(pattern_compile.findall('Hello,,,,,,Python!')))\n",
    "\n",
    "if re.match('p','python'):\n",
    "    print(\"re.match('p','python')->found it!\")"
   ]
  },
  {
   "cell_type": "code",
   "execution_count": 130,
   "id": "80aa2f2c-17a5-427c-ab3b-b372cfdd368a",
   "metadata": {},
   "outputs": [
    {
     "name": "stdout",
     "output_type": "stream",
     "text": [
      "'bjyxszd'.find('bjyxszd')->0\n",
      "'bjyxszd'.find('bjyx')->0\n",
      "'bx' in 'bjyxszd'->False\n"
     ]
    }
   ],
   "source": [
    "print(\"\\'bjyxszd\\'.find(\\'bjyxszd\\')->{}\".format('bjyxszd'.find('bjyxszd')))\n",
    "print(\"\\'bjyxszd\\'.find(\\'bjyx\\')->{}\".format('bjyxszd'.find('bjyx')))\n",
    "print(\"\\'bx\\' in \\'bjyxszd\\'->{}\".format('bx' in 'bjyxszd'))"
   ]
  },
  {
   "cell_type": "code",
   "execution_count": 134,
   "id": "48ceb021-4273-49d5-84cb-03a030fe60fa",
   "metadata": {},
   "outputs": [
    {
     "name": "stdout",
     "output_type": "stream",
     "text": [
      "match_1.gourp(1)->python\n",
      "match_1.start(1)->4\n",
      "match_1.end(1)->10\n",
      "match_1.span(1)->(4, 10)\n",
      "match_2.group(1)->python\n",
      "match_2.group(2)->org\n"
     ]
    }
   ],
   "source": [
    "#m.group()方法返回组，m.start()方法获取组的开始索引值，m.end()则获取结束位置索引值，m.span()返回区间值\n",
    "match_1=re.match(r'www\\.(.*)\\..{3}','www.python.org')\n",
    "print(\"match_1.gourp(1)->{}\".format(match_1.group(1)))\n",
    "print(\"match_1.start(1)->{}\".format(match_1.start(1)))\n",
    "print(\"match_1.end(1)->{}\".format(match_1.end(1)))\n",
    "print(\"match_1.span(1)->{}\".format(match_1.span(1)))\n",
    "match_2=re.match(r'www\\.(.*)\\.(.{3})','www.python.org')\n",
    "print(\"match_2.group(1)->{}\".format(match_2.group(1)))\n",
    "print(\"match_2.group(2)->{}\".format(match_2.group(2)))"
   ]
  },
  {
   "cell_type": "code",
   "execution_count": 135,
   "id": "f41df3d5-afe7-4185-ac17-56a67fecfc7f",
   "metadata": {},
   "outputs": [
    {
     "name": "stdout",
     "output_type": "stream",
     "text": [
      "lst_1=[85, 90, 95, 100]\n",
      "__________________________________________________\n",
      "for i in lst_1:\n",
      "85\n",
      "90\n",
      "95\n",
      "100\n"
     ]
    }
   ],
   "source": [
    "#for循环\n",
    "lst_1=list(range(85,105,5))\n",
    "print(\"lst_1={}\".format(lst_1))\n",
    "print(\"_\"*50)\n",
    "print(\"for i in lst_1:\")\n",
    "for i in lst_1:\n",
    "    print(i)"
   ]
  },
  {
   "cell_type": "code",
   "execution_count": 146,
   "id": "58647b61-3fae-4615-8fe2-eee0b51c4ea2",
   "metadata": {},
   "outputs": [
    {
     "name": "stdout",
     "output_type": "stream",
     "text": [
      "for i in range(len(lst_1)):\n",
      "idx=0,val=85\n",
      "idx=1,val=90\n",
      "idx=2,val=95\n",
      "idx=3,val=100\n",
      "dic_4={'a': 2, 'b': 3, 'c': 6, 'd': 0}\n",
      "__________________________________________________\n",
      "for k in dic_4:\n",
      "a\n",
      "b\n",
      "c\n",
      "d\n",
      "for b,l in dic_4.items():\n",
      "key=a,val=2\n",
      "key=b,val=3\n",
      "key=c,val=6\n",
      "key=d,val=0\n"
     ]
    }
   ],
   "source": [
    "print(\"for i in range(len(lst_1)):\")\n",
    "for i in range(len(lst_1)):\n",
    "    print(\"idx={},val={}\".format(i,lst_1[i]))\n",
    "#idx=index，自定义变量->i，\n",
    "\n",
    "dic_4=dict(a=2,b=3,c=6,d=0)\n",
    "print(\"dic_4={}\".format(dic_4))\n",
    "print(\"_\"*50)\n",
    "print(\"for k in dic_4:\")\n",
    "for k in dic_4:\n",
    "    print(k)\n",
    "    \n",
    "print(\"for b,l in dic_4.items():\")\n",
    "for b,l in dic_4.items():\n",
    "    print(\"key={},val={}\".format(b,l))"
   ]
  },
  {
   "cell_type": "code",
   "execution_count": 156,
   "id": "df6b951a-2c80-49e3-8911-7751c36b6e43",
   "metadata": {},
   "outputs": [
    {
     "name": "stdout",
     "output_type": "stream",
     "text": [
      "x=85\n",
      "x=95\n",
      "x=105\n"
     ]
    }
   ],
   "source": [
    "#while循环\n",
    "x=85\n",
    "while x<=110:\n",
    "    print(\"x={}\".format(x))\n",
    "    x+=10   "
   ]
  },
  {
   "cell_type": "code",
   "execution_count": 159,
   "id": "ccf08048-1033-42b6-bc68-4dd5cce34582",
   "metadata": {},
   "outputs": [
    {
     "name": "stdout",
     "output_type": "stream",
     "text": [
      "x=85\n",
      "x=95\n",
      "x=105\n",
      "sys.maxsize=9223372036854775807\n",
      "i=0\n",
      "i=1\n",
      "i=2\n",
      "i=3\n",
      "i=4\n",
      "i=5\n",
      "i=6\n",
      "i=7\n",
      "i=8\n",
      "i=9\n",
      "i=10\n"
     ]
    }
   ],
   "source": [
    "x=85\n",
    "while x<=200:\n",
    "    print(\"x={}\".format(x))\n",
    "    x+=10 \n",
    "    if x>=110:break    \n",
    "    \n",
    "import sys\n",
    "print(\"sys.maxsize={}\".format(sys.maxsize))\n",
    "for i in range(sys.maxsize):\n",
    "    print(\"i={}\".format(i))\n",
    "    i+=20\n",
    "    if i>=30:break"
   ]
  },
  {
   "cell_type": "code",
   "execution_count": 161,
   "id": "cd001f80-f3ae-42f1-99de-e77ec251b405",
   "metadata": {},
   "outputs": [
    {
     "name": "stdout",
     "output_type": "stream",
     "text": [
      "zip_lst=zip(lst_a,lst_b)-><zip object at 0x000001FEB414F5C0>\n",
      "dict(zip_lst)->{0: 'point_a', 1: 'point_b', 2: 'point_c', 3: 'point_d'}\n",
      "0 point_a\n",
      "1 point_b\n",
      "2 point_c\n",
      "3 point_d\n",
      "a=(0, 1, 2, 3),b=('point_a', 'point_b', 'point_c', 'point_d')\n"
     ]
    }
   ],
   "source": [
    "#并行迭代\n",
    "\n",
    "lst_a=[0,1,2,3]\n",
    "lst_b=['point_a','point_b','point_c','point_d']\n",
    "zip_lst=zip(lst_a,lst_b)\n",
    "#The zip() function takes iterables (can be zero or more), aggregates them in a tuple, and returns it.\n",
    "\n",
    "print(\"zip_lst=zip(lst_a,lst_b)->{}\".format(zip_lst))\n",
    "print(\"dict(zip_lst)->{}\".format(dict(zip_lst)))\n",
    "\n",
    "zip_lst=zip(lst_a,lst_b)\n",
    "for a,b in zip_lst:\n",
    "    print(a,b)\n",
    "    \n",
    "zip_lst=zip(lst_a,lst_b)\n",
    "a,b=zip(*zip_lst)\n",
    "print(\"a={},b={}\".format(a,b))"
   ]
  },
  {
   "cell_type": "code",
   "execution_count": 162,
   "id": "3c6911d5-513b-4bdb-811f-58dd0de9f01a",
   "metadata": {},
   "outputs": [
    {
     "name": "stdout",
     "output_type": "stream",
     "text": [
      "dic_4={0: 'point_a', 1: 'point_b', 2: 'point_c', 3: 'point_d'}\n",
      "dict((i,v) for i,v in enumerate(lst_c))->{0: 'point_a', 1: 'point_b', 2: 'point_c', 3: 'point_d'}\n",
      "__________________________________________________\n",
      "0:0,point_a\n",
      "1:1,point_b\n",
      "2:2,point_c\n",
      "3:3,point_d\n"
     ]
    }
   ],
   "source": [
    "#编号迭代\n",
    "\n",
    "lst_c=['point_a','point_b','point_c','point_d']\n",
    "dic_4={}\n",
    "for idx,value in enumerate(lst_c):\n",
    "    dic_4[idx]=value\n",
    "print(\"dic_4={}\".format(dic_4))\n",
    "print(\"dict((i,v) for i,v in enumerate(lst_c))->{}\".format(dict((i,v) for i,v in enumerate(lst_c)))) #list comprehension\n",
    "print(\"_\"*50)\n",
    "for i,(a,b) in enumerate(zip(lst_a,lst_b)):\n",
    "    print('%d:%s,%s'%(i,a,b))"
   ]
  },
  {
   "cell_type": "code",
   "execution_count": 168,
   "id": "479ebcde-832e-4d4a-8f0b-3bdcba5fed15",
   "metadata": {},
   "outputs": [
    {
     "name": "stdout",
     "output_type": "stream",
     "text": [
      "[x*x for x in range(3,37,5) if x%2==0]->[64, 324, 784]\n",
      "[x*x for x in range(3,37,5) ->[9, 64, 169, 324, 529, 784, 1089]\n",
      "[(x,y) for x in range(3)for y in range(2)]->[(0, 0), (0, 1), (1, 0), (1, 1), (2, 0), (2, 1)]\n",
      "[(x,y) for x,y in zip(range(3),range(2))]->[(0, 0), (1, 1)]\n",
      "[[a for a in range(1,10,3)],2,3,[b for b in range(60,100,7)],[[c for c in range(1000,2000,120)],3,9]]->[[1, 4, 7], 2, 3, [60, 67, 74, 81, 88, 95], [[1000, 1120, 1240, 1360, 1480, 1600, 1720, 1840, 1960], 3, 9]]\n",
      "flatten_lst(nested_list)->[1, 4, 7, 2, 3, 60, 67, 74, 81, 88, 95, 1000, 1120, 1240, 1360, 1480, 1600, 1720, 1840, 1960, 3, 9]\n"
     ]
    }
   ],
   "source": [
    "print(\"[x*x for x in range(3,37,5) if x%2==0]->{}\".format([x*x for x in range(3,37,5) if x%2==0]))\n",
    "print(\"[x*x for x in range(3,37,5) ->{}\".format([x*x for x in range(3,37,5) ]))\n",
    "#x%2==0---x整除2\n",
    "print(\"[(x,y) for x in range(3)for y in range(2)]->{}\".format([(x,y) for x in range(3)for y in range(2)]))\n",
    "\n",
    "print(\"[(x,y) for x,y in zip(range(3),range(2))]->{}\".format([(x,y) for x,y in zip(range(3),range(2))]))\n",
    "nested_list=[[a for a in range(1,10,3)],2,3,[b for b in range(60,100,7)],[[c for c in range(1000,2000,120)],3,9]]\n",
    "\n",
    "print(\"[[a for a in range(1,10,3)],2,3,[b for b in range(60,100,7)],[[c for c in range(1000,2000,120)],3,9]]->{}\".format(nested_list)) \n",
    "\n",
    "flatten_lst=lambda lst: [m for n_lst in lst for m in flatten_lst(n_lst)] if type(lst) is list else [lst]\n",
    "print(\"flatten_lst(nested_list)->{}\".format(flatten_lst(nested_list)))"
   ]
  },
  {
   "cell_type": "code",
   "execution_count": 169,
   "id": "c9778f10-4a31-44e9-9382-02a6fff197ea",
   "metadata": {},
   "outputs": [
    {
     "name": "stdout",
     "output_type": "stream",
     "text": [
      "Positive and larger than or equal to 10.\n"
     ]
    }
   ],
   "source": [
    "#条件语句\n",
    "x=10\n",
    "if x<0:\n",
    "    print('It is negative.')\n",
    "elif x==0:   #elif=else if\n",
    "    print('Equal to zero.')\n",
    "elif 0<x<10:\n",
    "    print('Positive but smaller than 10')\n",
    "else:\n",
    "    print('Positive and larger than or equal to 10.')\n",
    "\n"
   ]
  },
  {
   "cell_type": "code",
   "execution_count": 170,
   "id": "871c2296-8dd6-4ce6-b25e-005980f70ef0",
   "metadata": {},
   "outputs": [],
   "source": [
    "#x==y\tx等于y\n",
    "#x<y\tx小于y\n",
    "#x>y\tx大于y\n",
    "#x>=y\tx大于等于y\n",
    "#x<=y\tx小于等于y\n",
    "#x!=y\tx不等于y\n",
    "#x is y\tx和y是同一个对象\n",
    "#x is not y\tx和y是不同的对象\n",
    "#x in y\tx是y容器（例如列表）的成员\n",
    "#x not in y\tx不是y容器（例如列表）的成员"
   ]
  },
  {
   "cell_type": "code",
   "execution_count": 171,
   "id": "98e632f9-eaa8-4633-b1ec-86680eea5f7b",
   "metadata": {},
   "outputs": [
    {
     "name": "stdout",
     "output_type": "stream",
     "text": [
      "x==y->True\n",
      "x is y->True\n",
      "x==z->True\n",
      "x is z->False\n",
      "x is not y->False\n",
      "x is not z->True\n",
      "id_x:2193454686016;id_y:2193454686016;id_z:2193454606976\n",
      "x=[3, 6],y=[3, 6],z=[3, 6, 9] after del x[2]\n"
     ]
    }
   ],
   "source": [
    "x=y=[3,6,9]\n",
    "z=[3,6,9]\n",
    "print(\"x==y->{}\".format(x==y)) #x==y\tx等于y\n",
    "print(\"x is y->{}\".format(x is y)) #x is y\tx和y是同一个对象\n",
    "print(\"x==z->{}\".format(x==z))\n",
    "print(\"x is z->{}\".format(x is z))\n",
    "print(\"x is not y->{}\".format(x is not y))\n",
    "print(\"x is not z->{}\".format(x is not z))\n",
    "\n",
    "print(\"id_x:{};id_y:{};id_z:{}\".format(id(x),id(y),id(z))) \n",
    "\n",
    "del x[2]\n",
    "print(\"x={},y={},z={} after del x[2]\".format(x,y,z))"
   ]
  },
  {
   "cell_type": "code",
   "execution_count": 172,
   "id": "a28b2d04-94c2-4253-ba45-3aceda5daf92",
   "metadata": {},
   "outputs": [
    {
     "name": "stdout",
     "output_type": "stream",
     "text": [
      "3 in x->True\n",
      "0 in x->False\n",
      "3 not in x->False\n",
      "0 not in x->True\n"
     ]
    }
   ],
   "source": [
    "x=[3,6,9]\n",
    "print(\"3 in x->{}\".format(3 in x))\n",
    "print(\"0 in x->{}\".format(0 in x))\n",
    "print(\"3 not in x->{}\".format(3 not in x))\n",
    "print(\"0 not in x->{}\".format(0 not in x))"
   ]
  },
  {
   "cell_type": "code",
   "execution_count": 173,
   "id": "40b25cc0-095c-4d00-96de-7c45cbaa7515",
   "metadata": {},
   "outputs": [
    {
     "name": "stdout",
     "output_type": "stream",
     "text": [
      "a<c<b kidding!!!\n"
     ]
    }
   ],
   "source": [
    "a,b,c=0,10,15\n",
    "if c>a and c<b:\n",
    "    print('a<c<b')\n",
    "else: print('a<c<b kidding!!!')"
   ]
  },
  {
   "cell_type": "code",
   "execution_count": null,
   "id": "1119e845-87eb-423d-983d-07d6b3a1c461",
   "metadata": {},
   "outputs": [],
   "source": [
    "#函数 #定义函数\n",
    "#"
   ]
  },
  {
   "cell_type": "code",
   "execution_count": 11,
   "id": "efe74752-d37d-4f79-8780-16af956c5e39",
   "metadata": {},
   "outputs": [
    {
     "name": "stdout",
     "output_type": "stream",
     "text": [
      "simple_func(3,7)->16\n",
      "simple_func(7,3)->52\n",
      "simple_func(y=7,x=3)->16\n",
      "simple_func(3,7)->34\n",
      "simple_func(7,3)->346\n",
      "simple_func(y=7,x=3)->34\n"
     ]
    }
   ],
   "source": [
    "def simple_func(x,y):\n",
    "    z=pow(x,2)+y #pow（ a， b）=a的b次方\n",
    "    return z\n",
    "print(\"simple_func(3,7)->{}\".format(simple_func(3,7)))\n",
    "print(\"simple_func(7,3)->{}\".format(simple_func(7,3)))\n",
    "print(\"simple_func(y=7,x=3)->{}\".format(simple_func(y=7,x=3)))\n",
    "\n",
    "def simple_func(x,y):\n",
    "    z=pow(x,3)+y \n",
    "    return z\n",
    "print(\"simple_func(3,7)->{}\".format(simple_func(3,7)))\n",
    "print(\"simple_func(7,3)->{}\".format(simple_func(7,3)))\n",
    "print(\"simple_func(y=7,x=3)->{}\".format(simple_func(y=7,x=3)))\n"
   ]
  },
  {
   "cell_type": "code",
   "execution_count": 5,
   "id": "a33f8b7d-85bb-47bc-815d-83983b5392be",
   "metadata": {},
   "outputs": [
    {
     "name": "stdout",
     "output_type": "stream",
     "text": [
      "fibonacci(6,9)->[5, 8, 13, 21, 34, 55, 89, 144, 233]\n",
      "fibonacci(7,9)->[8, 13, 21, 34, 55, 89, 144, 233, 377]\n"
     ]
    }
   ],
   "source": [
    "def fibonacci(s,count): \n",
    "    fib_lst=[0,1]\n",
    "    fib_part=[]\n",
    "    if s==0 or s==1:\n",
    "        fib_part[:]=fib_lst\n",
    "        for i in range(count-2):\n",
    "            fib_part.append(fib_part[-1]+fib_part[-2])\n",
    "    else:\n",
    "        while True:\n",
    "            fib_lst[:]=[fib_lst[1],fib_lst[0]+fib_lst[1]]\n",
    "            #print(fib_lst)\n",
    "            if fib_lst[1]-s>=0:break\n",
    "        fib_part[:]=fib_lst\n",
    "        if abs(fib_lst[0]-s)>=abs(fib_lst[1]-s):\n",
    "            for i in range(count-1):\n",
    "                fib_part.append(fib_part[-1]+fib_part[-2])\n",
    "            fib_part.pop(0)\n",
    "        else:\n",
    "            for i in range(count-2):\n",
    "                fib_part.append(fib_part[-1]+fib_part[-2])\n",
    "    return fib_part\n",
    "\n",
    "print(\"fibonacci(6,9)->{}\".format(fibonacci(6,9)))\n",
    "print(\"fibonacci(7,9)->{}\".format(fibonacci(7,9)))"
   ]
  },
  {
   "cell_type": "code",
   "execution_count": 18,
   "id": "4e291ba9-9267-4c51-9c91-7f19858ce1cc",
   "metadata": {},
   "outputs": [
    {
     "name": "stdout",
     "output_type": "stream",
     "text": [
      "5040\n",
      "__________________________________________________\n",
      "210\n",
      "__________________________________________________\n",
      "440\n"
     ]
    }
   ],
   "source": [
    "#递归---递归定义阶乘 factorial\n",
    "def factorial(n):\n",
    "    if n==1:\n",
    "        return 1\n",
    "    else:\n",
    "        return n*factorial(n-1)\n",
    "print(factorial(7))\n",
    "\n",
    "print(\"_\"*50)\n",
    "def factorial(n):\n",
    "    if n==5:\n",
    "        return 5\n",
    "    else:\n",
    "        return n*factorial(n-1)\n",
    "print(factorial(7)) #函数=7x6x5=210\n",
    "\n",
    "print(\"_\"*50)\n",
    "def factorial(n):\n",
    "    if n==5:\n",
    "        return 5\n",
    "    else:\n",
    "        return n*factorial(n-3)\n",
    "print(factorial(11)) #函数=11x8x5=440"
   ]
  },
  {
   "cell_type": "code",
   "execution_count": 21,
   "id": "6ffb3a8b-2200-4dfc-a666-b132dc12baf2",
   "metadata": {},
   "outputs": [
    {
     "name": "stdout",
     "output_type": "stream",
     "text": [
      "__________________________________________________\n",
      "swift.fly->Whirring\n",
      "swift.eat()->\n",
      "Aaaah...\n",
      "swift.eat()->\n",
      "No.Thanks!\n",
      "swift.sing()->\n",
      "Squawk!\n"
     ]
    }
   ],
   "source": [
    "#class-类\n",
    "\n",
    "class Bird:\n",
    "    fly='Whirring'\n",
    "    def __init__(self): #（self）固定用法，代表自身\n",
    "        self.hungry=True\n",
    "    def eat(self):\n",
    "        if self.hungry:\n",
    "            print('Aaaah...')\n",
    "            self.hungry=False\n",
    "        else:\n",
    "            print('No.Thanks!')\n",
    "\n",
    "class Apodidae(Bird): \n",
    "    def __init__(self):\n",
    "        super(Apodidae,self).__init__() #继承父类的属性值固定用法\n",
    "        self.sound='Squawk!'\n",
    "    def sing(self):\n",
    "        print(self.sound)\n",
    "#改变属性变量\n",
    "\n",
    "print(\"_\"*50)\n",
    "swift=Apodidae()\n",
    "print(\"swift.fly->{}\".format(swift.fly))\n",
    "print(\"swift.eat()->\")\n",
    "swift.eat()\n",
    "print(\"swift.eat()->\")\n",
    "swift.eat()\n",
    "print(\"swift.sing()->\")\n",
    "swift.sing()\n"
   ]
  },
  {
   "cell_type": "code",
   "execution_count": 32,
   "id": "e20c5b3f-47f0-4286-a845-883290e0843d",
   "metadata": {},
   "outputs": [
    {
     "name": "stdout",
     "output_type": "stream",
     "text": [
      "blackswift.sing()->\n",
      "Squawk!\n",
      "scarceswift.sing()->\n",
      "Squawk!\n"
     ]
    }
   ],
   "source": [
    "blackswift=Apodidae()\n",
    "scarceswift=Apodidae()\n",
    "print(\"blackswift.sing()->\")\n",
    "blackswift.sing()\n",
    "print(\"scarceswift.sing()->\")\n",
    "scarceswift.sing()"
   ]
  },
  {
   "cell_type": "code",
   "execution_count": 33,
   "id": "0ab65dd4-ed15-49ac-9840-bf6cd26083a7",
   "metadata": {},
   "outputs": [
    {
     "name": "stdout",
     "output_type": "stream",
     "text": [
      "blackswift.fly->Whirring\n",
      "blackswift.fly after redefining the blackswif's attribute->humming\n",
      "scarceswift.fly->Whirring\n"
     ]
    }
   ],
   "source": [
    "#类的属性\n",
    "print(\"blackswift.fly->{}\".format(blackswift.fly))\n",
    "blackswift.fly='humming' #重新赋予实例的属性\n",
    "print(\"blackswift.fly after redefining the blackswif's attribute->{}\".format(blackswift.fly))\n",
    "print(\"scarceswift.fly->{}\".format(scarceswift.fly))"
   ]
  },
  {
   "cell_type": "code",
   "execution_count": 39,
   "id": "db0e2d37-a962-4d8d-8547-b6321ca2e6d2",
   "metadata": {},
   "outputs": [
    {
     "name": "stdout",
     "output_type": "stream",
     "text": [
      "fa=[1, 1, 2, 3, 5, 8, 13, 21, 34]\n",
      "fb=[55, 89, 144, 233, 377]\n"
     ]
    }
   ],
   "source": [
    "#迭代+迭代器-小批量读取\n",
    "\n",
    "class Fibs():\n",
    "    def __init__(self):\n",
    "        self.a=0\n",
    "        self.b=1\n",
    "    def next(self): \n",
    "        self.a,self.b=self.b,self.a+self.b\n",
    "        return self.a\n",
    "    def __iter__(self): \n",
    "        return self\n",
    "    \n",
    "f=Fibs() #实际化\n",
    "fa=[]\n",
    "fb=[]\n",
    "for i in range(9):\n",
    "    fa.append(f.next())\n",
    "print(\"fa={}\".format(fa))\n",
    "for i in range(5):\n",
    "    fb.append(f.next())\n",
    "print(\"fb={}\".format(fb))"
   ]
  },
  {
   "cell_type": "code",
   "execution_count": 41,
   "id": "9adb1555-6e9a-4e12-a241-b41851089bfb",
   "metadata": {},
   "outputs": [
    {
     "name": "stdout",
     "output_type": "stream",
     "text": [
      "lst_d=[3, 5, 7, 9, 11, 13, 15, 17, 19]\n",
      "__________________________________________________\n",
      "next(lst_iter)->3\n",
      "next(lst_iter)->5\n",
      "7\n",
      "9\n",
      "11\n",
      "13\n",
      "15\n",
      "17\n",
      "19\n"
     ]
    },
    {
     "ename": "StopIteration",
     "evalue": "",
     "output_type": "error",
     "traceback": [
      "\u001b[1;31m---------------------------------------------------------------------------\u001b[0m",
      "\u001b[1;31mStopIteration\u001b[0m                             Traceback (most recent call last)",
      "\u001b[1;32m<ipython-input-41-b6282c57d6a0>\u001b[0m in \u001b[0;36m<module>\u001b[1;34m\u001b[0m\n\u001b[0;32m      7\u001b[0m \u001b[1;32mfor\u001b[0m \u001b[0mi\u001b[0m \u001b[1;32min\u001b[0m \u001b[0mlst_iter\u001b[0m\u001b[1;33m:\u001b[0m\u001b[1;33m\u001b[0m\u001b[1;33m\u001b[0m\u001b[0m\n\u001b[0;32m      8\u001b[0m     \u001b[0mprint\u001b[0m\u001b[1;33m(\u001b[0m\u001b[0mi\u001b[0m\u001b[1;33m)\u001b[0m\u001b[1;33m\u001b[0m\u001b[1;33m\u001b[0m\u001b[0m\n\u001b[1;32m----> 9\u001b[1;33m \u001b[0mnext\u001b[0m\u001b[1;33m(\u001b[0m\u001b[0mlst_iter\u001b[0m\u001b[1;33m)\u001b[0m\u001b[1;33m\u001b[0m\u001b[1;33m\u001b[0m\u001b[0m\n\u001b[0m",
      "\u001b[1;31mStopIteration\u001b[0m: "
     ]
    }
   ],
   "source": [
    "lst_d=list(range(3,20,2))\n",
    "print(\"lst_d={}\".format(lst_d))\n",
    "print(\"_\"*50)\n",
    "lst_iter=iter(lst_d)\n",
    "print(\"next(lst_iter)->{}\".format(next(lst_iter)))\n",
    "print(\"next(lst_iter)->{}\".format(next(lst_iter)))\n",
    "for i in lst_iter:\n",
    "    print(i)\n",
    "next(lst_iter)"
   ]
  },
  {
   "cell_type": "code",
   "execution_count": 46,
   "id": "46919521-001b-45f7-ab93-1140af342c9e",
   "metadata": {},
   "outputs": [
    {
     "name": "stdout",
     "output_type": "stream",
     "text": [
      "lst_e=[[85, 95, 105], [1, 8, 23, [85, 95, 105], 95]]\n",
      "__________________________________________________\n",
      "flatten_lst=[85, 95, 105, 1, 8, 23, 85, 95, 105, 95]\n"
     ]
    }
   ],
   "source": [
    "# 生成器(generator)\n",
    "\n",
    "lst_e=[list(range(85,110,10)),[1,8,23,list(range(85,110,10)),95]]\n",
    "print(\"lst_e={}\".format(lst_e))\n",
    "print(\"_\"*50)\n",
    "flatten_lst=[] \n",
    "for v_1 in lst_e:\n",
    "    try:\n",
    "        for v_2 in v_1:\n",
    "            try:\n",
    "                for v_3 in v_2:\n",
    "                    flatten_lst.append(v_3)\n",
    "            except TypeError:\n",
    "                flatten_lst.append(v_2)\n",
    "    except TypeError:\n",
    "        flatten_lst.append(v_1)\n",
    "print(\"flatten_lst={}\".format(flatten_lst))"
   ]
  },
  {
   "cell_type": "code",
   "execution_count": 10,
   "id": "895a6155-55d4-4919-8362-b7c65ac60ea4",
   "metadata": {},
   "outputs": [
    {
     "ename": "NameError",
     "evalue": "name 'lst_e' is not defined",
     "output_type": "error",
     "traceback": [
      "\u001b[1;31m---------------------------------------------------------------------------\u001b[0m",
      "\u001b[1;31mNameError\u001b[0m                                 Traceback (most recent call last)",
      "\u001b[1;32m<ipython-input-10-e2a3c693aeab>\u001b[0m in \u001b[0;36m<module>\u001b[1;34m\u001b[0m\n\u001b[0;32m      6\u001b[0m     \u001b[1;32mexcept\u001b[0m \u001b[0mTypeError\u001b[0m\u001b[1;33m:\u001b[0m\u001b[1;33m\u001b[0m\u001b[1;33m\u001b[0m\u001b[0m\n\u001b[0;32m      7\u001b[0m         \u001b[1;32myield\u001b[0m \u001b[0mlst_e\u001b[0m\u001b[1;33m\u001b[0m\u001b[1;33m\u001b[0m\u001b[0m\n\u001b[1;32m----> 8\u001b[1;33m \u001b[0mprint\u001b[0m\u001b[1;33m(\u001b[0m\u001b[1;34m\"list(flatten(lst_e))->{}\"\u001b[0m\u001b[1;33m.\u001b[0m\u001b[0mformat\u001b[0m\u001b[1;33m(\u001b[0m\u001b[0mlist\u001b[0m\u001b[1;33m(\u001b[0m\u001b[0mflatten\u001b[0m\u001b[1;33m(\u001b[0m\u001b[0mlst_e\u001b[0m\u001b[1;33m)\u001b[0m\u001b[1;33m)\u001b[0m\u001b[1;33m)\u001b[0m\u001b[1;33m)\u001b[0m\u001b[1;33m\u001b[0m\u001b[1;33m\u001b[0m\u001b[0m\n\u001b[0m\u001b[0;32m      9\u001b[0m \u001b[1;33m\u001b[0m\u001b[0m\n",
      "\u001b[1;31mNameError\u001b[0m: name 'lst_e' is not defined"
     ]
    }
   ],
   "source": [
    "def flatten(lst_e):\n",
    "    try:       \n",
    "        for n_lst_e in lst_e:  #for循环展平列表           \n",
    "            for m in flatten(n_lst_e): #使用递归的方法循环子列表                \n",
    "                yield m \n",
    "    except TypeError: \n",
    "        yield lst_e\n",
    "print(\"list(flatten(lst_e))->{}\".format(list(flatten(lst_e))))\n",
    " \n"
   ]
  },
  {
   "cell_type": "code",
   "execution_count": 11,
   "id": "a5ed466d-4ab7-4ff7-84d1-eff2553c2c63",
   "metadata": {},
   "outputs": [
    {
     "name": "stdout",
     "output_type": "stream",
     "text": [
      "next(n)->num#0\n",
      "next(n)->num#1\n",
      "next(n)->num#2\n",
      "[next(n) for i in range(5)]->['num#3', 'num#4', 'num#5', 'num#6', 'num#7']\n"
     ]
    }
   ],
   "source": [
    "def infinite():\n",
    "    n=0\n",
    "    while True:\n",
    "        yield 'num#'+str(n)\n",
    "        n+=1\n",
    "n=infinite()\n",
    "print(\"next(n)->{}\".format(next(n)))\n",
    "print(\"next(n)->{}\".format(next(n)))\n",
    "print(\"next(n)->{}\".format(next(n)))\n",
    "print(\"[next(n) for i in range(5)]->{}\".format([next(n) for i in range(5)]))"
   ]
  },
  {
   "cell_type": "code",
   "execution_count": 18,
   "id": "5002b33e-e31f-45b4-a00f-cdc482fa30e9",
   "metadata": {},
   "outputs": [
    {
     "name": "stdout",
     "output_type": "stream",
     "text": [
      "[[(2*105*(2*(u/(n-1))-1),2*105*(2*(v/(n-1))-1)) for u in range(n)] for v in range(n)]->[[(-210.0, -210.0), (0.0, -210.0), (210.0, -210.0)], [(-210.0, 0.0), (0.0, 0.0), (210.0, 0.0)], [(-210.0, 210.0), (0.0, 210.0), (210.0, 210.0)]]\n",
      "__________________________________________________\n",
      "([(2*105*(2*(u/(n-1))-1),2*105*(2*(v/(n-1))-1)) for u in range(n)] for v in range(n))-><generator object <genexpr> at 0x0000020754446120>\n",
      "next(gen)->[(-210.0, -210.0), (0.0, -210.0), (210.0, -210.0)]\n",
      "next(gen)->[(-210.0, 0.0), (0.0, 0.0), (210.0, 0.0)]\n"
     ]
    }
   ],
   "source": [
    "n=3\n",
    "print(\"[[(2*105*(2*(u/(n-1))-1),2*105*(2*(v/(n-1))-1)) for u in range(n)] for v in range(n)]->{}\".format([[(2*105*(2*(u/(n-1))-1),2*105*(2*(v/(n-1))-1)) for u in range(n)] for v in range(n)]))\n",
    "print(\"_\"*50)\n",
    "print(\"([(2*105*(2*(u/(n-1))-1),2*105*(2*(v/(n-1))-1)) for u in range(n)] for v in range(n))->{}\".format(([(2*105*(2*(u/(n-1))-1),2*105*(2*(v/(n-1))-1)) for u in range(n)] for v in range(n))))\n",
    "gen=([(2*105*(2*(u/(n-1))-1),2*105*(2*(v/(n-1))-1)) for u in range(n)] for v in range(n))\n",
    "print(\"next(gen)->{}\".format(next(gen)))\n",
    "print(\"next(gen)->{}\".format(next(gen)))"
   ]
  },
  {
   "cell_type": "code",
   "execution_count": null,
   "id": "fc675469-b3c5-4e28-9526-d3f8df5fb7d3",
   "metadata": {},
   "outputs": [],
   "source": []
  }
 ],
 "metadata": {
  "kernelspec": {
   "display_name": "Python 3",
   "language": "python",
   "name": "python3"
  },
  "language_info": {
   "codemirror_mode": {
    "name": "ipython",
    "version": 3
   },
   "file_extension": ".py",
   "mimetype": "text/x-python",
   "name": "python",
   "nbconvert_exporter": "python",
   "pygments_lexer": "ipython3",
   "version": "3.8.8"
  }
 },
 "nbformat": 4,
 "nbformat_minor": 5
}
